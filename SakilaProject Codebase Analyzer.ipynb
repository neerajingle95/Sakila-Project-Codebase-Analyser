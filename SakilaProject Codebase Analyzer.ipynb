{
 "cells": [
  {
   "cell_type": "code",
   "execution_count": 23,
   "id": "fd8d3192",
   "metadata": {
    "scrolled": true
   },
   "outputs": [],
   "source": [
    "# Installing dependencies\n",
    "# !pip install langchain langchain-core langchain-community openai tiktoken python-dotenv tqdm"
   ]
  },
  {
   "cell_type": "code",
   "execution_count": 35,
   "id": "e3225f4c",
   "metadata": {
    "scrolled": true
   },
   "outputs": [
    {
     "name": "stderr",
     "output_type": "stream",
     "text": [
      "🔍 Processing code chunks:  33%|█████████████████▉                                     | 28/86 [00:58<03:56,  4.07s/it]"
     ]
    },
    {
     "name": "stdout",
     "output_type": "stream",
     "text": [
      "⚠️ Could not parse output for SakilaProject\\src\\main\\java\\com\\sparta\\engineering72\\sakilaproject\\entities\\Film.java: Unterminated string starting at: line 112 column 22 (char 3579)\n"
     ]
    },
    {
     "name": "stderr",
     "output_type": "stream",
     "text": [
      "🔍 Processing code chunks:  41%|██████████████████████▍                                | 35/86 [01:21<02:50,  3.34s/it]"
     ]
    },
    {
     "name": "stdout",
     "output_type": "stream",
     "text": [
      "⚠️ Could not parse output for SakilaProject\\src\\main\\java\\com\\sparta\\engineering72\\sakilaproject\\entities\\FilmText.java: Invalid \\escape: line 2 column 126 (char 128)\n"
     ]
    },
    {
     "name": "stderr",
     "output_type": "stream",
     "text": [
      "🔍 Processing code chunks:  55%|██████████████████████████████                         | 47/86 [01:56<01:27,  2.26s/it]"
     ]
    },
    {
     "name": "stdout",
     "output_type": "stream",
     "text": [
      "⚠️ Could not parse output for SakilaProject\\src\\main\\java\\com\\sparta\\engineering72\\sakilaproject\\respositories\\FilmRepository.java: Expecting ',' delimiter: line 9 column 1 (char 353)\n"
     ]
    },
    {
     "name": "stderr",
     "output_type": "stream",
     "text": [
      "🔍 Processing code chunks:  84%|██████████████████████████████████████████████         | 72/86 [02:42<00:24,  1.77s/it]"
     ]
    },
    {
     "name": "stdout",
     "output_type": "stream",
     "text": [
      "⚠️ Could not parse output for SakilaProject\\src\\test\\java\\com\\sparta\\engineering72\\sakilaproject\\MockTests.java: Expecting ',' delimiter: line 9 column 1 (char 422)\n"
     ]
    },
    {
     "name": "stderr",
     "output_type": "stream",
     "text": [
      "🔍 Processing code chunks:  86%|███████████████████████████████████████████████▎       | 74/86 [02:46<00:20,  1.73s/it]"
     ]
    },
    {
     "name": "stdout",
     "output_type": "stream",
     "text": [
      "⚠️ Could not parse output for SakilaProject\\src\\test\\java\\com\\sparta\\engineering72\\sakilaproject\\MockTests.java: Expecting ',' delimiter: line 9 column 1 (char 321)\n"
     ]
    },
    {
     "name": "stderr",
     "output_type": "stream",
     "text": [
      "🔍 Processing code chunks:  88%|████████████████████████████████████████████████▌      | 76/86 [02:50<00:18,  1.85s/it]"
     ]
    },
    {
     "name": "stdout",
     "output_type": "stream",
     "text": [
      "⚠️ Could not parse output for SakilaProject\\src\\test\\java\\com\\sparta\\engineering72\\sakilaproject\\MockTests.java: Expecting ',' delimiter: line 9 column 1 (char 383)\n"
     ]
    },
    {
     "name": "stderr",
     "output_type": "stream",
     "text": [
      "🔍 Processing code chunks: 100%|███████████████████████████████████████████████████████| 86/86 [03:05<00:00,  2.16s/it]"
     ]
    },
    {
     "name": "stdout",
     "output_type": "stream",
     "text": [
      "\n",
      "✅ Knowledge extraction complete. Output saved to: sakila_structured_knowledge.json\n",
      "Total runtime: 186 seconds\n"
     ]
    },
    {
     "name": "stderr",
     "output_type": "stream",
     "text": [
      "\n"
     ]
    }
   ],
   "source": [
    "import os\n",
    "import json\n",
    "from pathlib import Path\n",
    "from dotenv import load_dotenv\n",
    "from tqdm import tqdm\n",
    "import time\n",
    "\n",
    "# LangChain components for LLM integration\n",
    "from langchain.text_splitter import RecursiveCharacterTextSplitter\n",
    "from langchain.prompts import PromptTemplate\n",
    "from langchain.chat_models import ChatOpenAI\n",
    "from langchain.chains import LLMChain\n",
    "from langchain.docstore.document import Document\n",
    "\n",
    "start = time.time()\n",
    "\n",
    "# ───────────────────────────────────────────────────────────────\n",
    "# Step 1: Load API key securely from .env\n",
    "# ───────────────────────────────────────────────────────────────\n",
    "load_dotenv()\n",
    "TOGETHER_API_KEY = os.getenv(\"TOGETHER_API_KEY\")\n",
    "assert TOGETHER_API_KEY, \"❌ TOGETHER_API_KEY not found in .env\"\n",
    "\n",
    "# ───────────────────────────────────────────────────────────────\n",
    "# Step 2: Define codebase path and file types to process\n",
    "# ───────────────────────────────────────────────────────────────\n",
    "codebase_path = Path(\"SakilaProject\")  # Local directory path\n",
    "assert codebase_path.exists(), \"❌ SakilaProject directory not found\"\n",
    "\n",
    "# File types relevant to SakilaProject (multi-language support)\n",
    "file_extensions = [\".java\", \".sql\", \".xml\", \".properties\"]\n",
    "\n",
    "# ───────────────────────────────────────────────────────────────\n",
    "# Step 3: Load and parse code files into document objects\n",
    "# ───────────────────────────────────────────────────────────────\n",
    "def load_code_files(base_path):\n",
    "    docs = []\n",
    "    for ext in file_extensions:\n",
    "        for file in base_path.rglob(f\"*{ext}\"):\n",
    "            try:\n",
    "                content = file.read_text(encoding=\"utf-8\")\n",
    "                docs.append(Document(page_content=content, metadata={\"source\": str(file)}))\n",
    "            except Exception as e:\n",
    "                print(f\"⚠️ Skipping {file} due to error: {e}\")\n",
    "    return docs\n",
    "\n",
    "docs = load_code_files(codebase_path)\n",
    "\n",
    "# ───────────────────────────────────────────────────────────────\n",
    "# Step 4: Chunk files to fit within LLM token limits\n",
    "# ───────────────────────────────────────────────────────────────\n",
    "splitter = RecursiveCharacterTextSplitter(chunk_size=1500, chunk_overlap=200)\n",
    "chunks = splitter.split_documents(docs)\n",
    "\n",
    "# ───────────────────────────────────────────────────────────────\n",
    "# Step 5: Initialize Together.ai LLM via LangChain\n",
    "# ───────────────────────────────────────────────────────────────\n",
    "llm = ChatOpenAI(\n",
    "    model=\"mistralai/Mistral-7B-Instruct-v0.1\",\n",
    "    openai_api_key=TOGETHER_API_KEY,\n",
    "    openai_api_base=\"https://api.together.xyz/v1\",\n",
    "    temperature=0.1,\n",
    "    max_tokens=1000\n",
    ")\n",
    "\n",
    "# ───────────────────────────────────────────────────────────────\n",
    "# Step 6: Prompt template to guide LLM in structured analysis\n",
    "# ───────────────────────────────────────────────────────────────\n",
    "prompt = PromptTemplate.from_template(\"\"\"\n",
    "You are a software architect analyzing a code snippet. The code below is from a Java, SQL, or XML file:\n",
    "\n",
    "{code}\n",
    "\n",
    "Extract the following:\n",
    "1. What is the purpose of this file or component?\n",
    "2. What methods/functions are defined? (Name, signature, purpose)\n",
    "3. Any comments on structure or complexity?\n",
    "\n",
    "Return your answer strictly in JSON format:\n",
    "{{\n",
    "  \"summary\": \"...\",\n",
    "  \"methods\": [\n",
    "    {{\n",
    "      \"name\": \"...\",\n",
    "      \"signature\": \"...\",\n",
    "      \"description\": \"...\"\n",
    "    }}\n",
    "  ],\n",
    "  \"complexity_notes\": \"...\"\n",
    "}}\n",
    "\"\"\")\n",
    "\n",
    "# Wrap the prompt and LLM into a LangChain chain\n",
    "chain = LLMChain(llm=llm, prompt=prompt)\n",
    "\n",
    "# ───────────────────────────────────────────────────────────────\n",
    "# Step 7: Analyze each chunk and build structured output\n",
    "# ───────────────────────────────────────────────────────────────\n",
    "results_by_file = {}\n",
    "\n",
    "for chunk in tqdm(chunks, desc=\"🔍 Processing code chunks\"):\n",
    "    source = chunk.metadata[\"source\"]\n",
    "    result = chain.run(code=chunk.page_content)  # Send to LLM\n",
    "\n",
    "    # Initialize JSON structure for each file if not already\n",
    "    if source not in results_by_file:\n",
    "        results_by_file[source] = {\n",
    "            \"summary\": \"\",\n",
    "            \"methods\": [],\n",
    "            \"complexity_notes\": \"\"\n",
    "        }\n",
    "\n",
    "    # Attempt to parse LLM response\n",
    "    try:\n",
    "        parsed = json.loads(result)\n",
    "\n",
    "        # Merge into file-specific structure\n",
    "        if parsed.get(\"summary\"):\n",
    "            results_by_file[source][\"summary\"] = parsed[\"summary\"]\n",
    "\n",
    "        if parsed.get(\"methods\"):\n",
    "            results_by_file[source][\"methods\"].extend(parsed[\"methods\"])\n",
    "\n",
    "        if parsed.get(\"complexity_notes\"):\n",
    "            results_by_file[source][\"complexity_notes\"] += parsed[\"complexity_notes\"] + \" \"\n",
    "\n",
    "    except Exception as e:\n",
    "        print(f\"⚠️ Could not parse output for {source}: {e}\")\n",
    "\n",
    "# ───────────────────────────────────────────────────────────────\n",
    "# Step 8: Export structured results to JSON\n",
    "# ───────────────────────────────────────────────────────────────\n",
    "output_path = \"sakila_structured_knowledge.json\"\n",
    "with open(output_path, \"w\", encoding=\"utf-8\") as f:\n",
    "    json.dump(results_by_file, f, indent=2)\n",
    "\n",
    "end = time.time()\n",
    "\n",
    "print(f\"\\n✅ Knowledge extraction complete. Output saved to: {output_path}\")\n",
    "print(f\"Total runtime: {round(end - start)} seconds\")"
   ]
  },
  {
   "cell_type": "code",
   "execution_count": null,
   "id": "5ef44f9b",
   "metadata": {},
   "outputs": [],
   "source": []
  }
 ],
 "metadata": {
  "kernelspec": {
   "display_name": "Python 3",
   "language": "python",
   "name": "python3"
  },
  "language_info": {
   "codemirror_mode": {
    "name": "ipython",
    "version": 3
   },
   "file_extension": ".py",
   "mimetype": "text/x-python",
   "name": "python",
   "nbconvert_exporter": "python",
   "pygments_lexer": "ipython3",
   "version": "3.8.8"
  }
 },
 "nbformat": 4,
 "nbformat_minor": 5
}
